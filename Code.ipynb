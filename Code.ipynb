{
 "cells": [
  {
   "cell_type": "code",
   "execution_count": 15,
   "metadata": {},
   "outputs": [
    {
     "name": "stdout",
     "output_type": "stream",
     "text": [
      "osmium extract -p ./MODULES/UFs/GeoJsons/Acre-AC.geojson ./c:/Users/johnh/OneDrive/Desktop/TEST/PROTOBUF/PROTOBUF/brazil-latest.osm.pbf -o ./PROTOBUF/PROTOBUFs/Acre-AC.pbf\n",
      "osmium extract -p ./MODULES/UFs/GeoJsons/Alagoas-AL.geojson ./c:/Users/johnh/OneDrive/Desktop/TEST/PROTOBUF/PROTOBUF/brazil-latest.osm.pbf -o ./PROTOBUF/PROTOBUFs/Alagoas-AL.pbf\n",
      "osmium extract -p ./MODULES/UFs/GeoJsons/Amapa-AP.geojson ./c:/Users/johnh/OneDrive/Desktop/TEST/PROTOBUF/PROTOBUF/brazil-latest.osm.pbf -o ./PROTOBUF/PROTOBUFs/Amapa-AP.pbf\n",
      "osmium extract -p ./MODULES/UFs/GeoJsons/Amazonas-AM.geojson ./c:/Users/johnh/OneDrive/Desktop/TEST/PROTOBUF/PROTOBUF/brazil-latest.osm.pbf -o ./PROTOBUF/PROTOBUFs/Amazonas-AM.pbf\n",
      "osmium extract -p ./MODULES/UFs/GeoJsons/Bahia-BA.geojson ./c:/Users/johnh/OneDrive/Desktop/TEST/PROTOBUF/PROTOBUF/brazil-latest.osm.pbf -o ./PROTOBUF/PROTOBUFs/Bahia-BA.pbf\n",
      "osmium extract -p ./MODULES/UFs/GeoJsons/Ceara-CE.geojson ./c:/Users/johnh/OneDrive/Desktop/TEST/PROTOBUF/PROTOBUF/brazil-latest.osm.pbf -o ./PROTOBUF/PROTOBUFs/Ceara-CE.pbf\n",
      "osmium extract -p ./MODULES/UFs/GeoJsons/DistritoFederal-DF.geojson ./c:/Users/johnh/OneDrive/Desktop/TEST/PROTOBUF/PROTOBUF/brazil-latest.osm.pbf -o ./PROTOBUF/PROTOBUFs/DistritoFederal-DF.pbf\n",
      "osmium extract -p ./MODULES/UFs/GeoJsons/EspiritoSanto-ES.geojson ./c:/Users/johnh/OneDrive/Desktop/TEST/PROTOBUF/PROTOBUF/brazil-latest.osm.pbf -o ./PROTOBUF/PROTOBUFs/EspiritoSanto-ES.pbf\n",
      "osmium extract -p ./MODULES/UFs/GeoJsons/Goias-GO.geojson ./c:/Users/johnh/OneDrive/Desktop/TEST/PROTOBUF/PROTOBUF/brazil-latest.osm.pbf -o ./PROTOBUF/PROTOBUFs/Goias-GO.pbf\n",
      "osmium extract -p ./MODULES/UFs/GeoJsons/Maranhao-MA.geojson ./c:/Users/johnh/OneDrive/Desktop/TEST/PROTOBUF/PROTOBUF/brazil-latest.osm.pbf -o ./PROTOBUF/PROTOBUFs/Maranhao-MA.pbf\n",
      "osmium extract -p ./MODULES/UFs/GeoJsons/MatoGrosso-MT.geojson ./c:/Users/johnh/OneDrive/Desktop/TEST/PROTOBUF/PROTOBUF/brazil-latest.osm.pbf -o ./PROTOBUF/PROTOBUFs/MatoGrosso-MT.pbf\n",
      "osmium extract -p ./MODULES/UFs/GeoJsons/MatoGrossodoSul-MS.geojson ./c:/Users/johnh/OneDrive/Desktop/TEST/PROTOBUF/PROTOBUF/brazil-latest.osm.pbf -o ./PROTOBUF/PROTOBUFs/MatoGrossodoSul-MS.pbf\n",
      "osmium extract -p ./MODULES/UFs/GeoJsons/MinasGerais-MG.geojson ./c:/Users/johnh/OneDrive/Desktop/TEST/PROTOBUF/PROTOBUF/brazil-latest.osm.pbf -o ./PROTOBUF/PROTOBUFs/MinasGerais-MG.pbf\n",
      "osmium extract -p ./MODULES/UFs/GeoJsons/Para-PA.geojson ./c:/Users/johnh/OneDrive/Desktop/TEST/PROTOBUF/PROTOBUF/brazil-latest.osm.pbf -o ./PROTOBUF/PROTOBUFs/Para-PA.pbf\n",
      "osmium extract -p ./MODULES/UFs/GeoJsons/Paraiba-PB.geojson ./c:/Users/johnh/OneDrive/Desktop/TEST/PROTOBUF/PROTOBUF/brazil-latest.osm.pbf -o ./PROTOBUF/PROTOBUFs/Paraiba-PB.pbf\n",
      "osmium extract -p ./MODULES/UFs/GeoJsons/Parana-PR.geojson ./c:/Users/johnh/OneDrive/Desktop/TEST/PROTOBUF/PROTOBUF/brazil-latest.osm.pbf -o ./PROTOBUF/PROTOBUFs/Parana-PR.pbf\n",
      "osmium extract -p ./MODULES/UFs/GeoJsons/Pernambuco-PE.geojson ./c:/Users/johnh/OneDrive/Desktop/TEST/PROTOBUF/PROTOBUF/brazil-latest.osm.pbf -o ./PROTOBUF/PROTOBUFs/Pernambuco-PE.pbf\n",
      "osmium extract -p ./MODULES/UFs/GeoJsons/Piaui-PI.geojson ./c:/Users/johnh/OneDrive/Desktop/TEST/PROTOBUF/PROTOBUF/brazil-latest.osm.pbf -o ./PROTOBUF/PROTOBUFs/Piaui-PI.pbf\n",
      "osmium extract -p ./MODULES/UFs/GeoJsons/RiodeJaneiro-RJ.geojson ./c:/Users/johnh/OneDrive/Desktop/TEST/PROTOBUF/PROTOBUF/brazil-latest.osm.pbf -o ./PROTOBUF/PROTOBUFs/RiodeJaneiro-RJ.pbf\n",
      "osmium extract -p ./MODULES/UFs/GeoJsons/RioGrandedoNorte-RN.geojson ./c:/Users/johnh/OneDrive/Desktop/TEST/PROTOBUF/PROTOBUF/brazil-latest.osm.pbf -o ./PROTOBUF/PROTOBUFs/RioGrandedoNorte-RN.pbf\n",
      "osmium extract -p ./MODULES/UFs/GeoJsons/RioGrandedoSul-RS.geojson ./c:/Users/johnh/OneDrive/Desktop/TEST/PROTOBUF/PROTOBUF/brazil-latest.osm.pbf -o ./PROTOBUF/PROTOBUFs/RioGrandedoSul-RS.pbf\n",
      "osmium extract -p ./MODULES/UFs/GeoJsons/Rondonia-RO.geojson ./c:/Users/johnh/OneDrive/Desktop/TEST/PROTOBUF/PROTOBUF/brazil-latest.osm.pbf -o ./PROTOBUF/PROTOBUFs/Rondonia-RO.pbf\n",
      "osmium extract -p ./MODULES/UFs/GeoJsons/Roraima-RR.geojson ./c:/Users/johnh/OneDrive/Desktop/TEST/PROTOBUF/PROTOBUF/brazil-latest.osm.pbf -o ./PROTOBUF/PROTOBUFs/Roraima-RR.pbf\n",
      "osmium extract -p ./MODULES/UFs/GeoJsons/SantaCatarina-SC.geojson ./c:/Users/johnh/OneDrive/Desktop/TEST/PROTOBUF/PROTOBUF/brazil-latest.osm.pbf -o ./PROTOBUF/PROTOBUFs/SantaCatarina-SC.pbf\n",
      "osmium extract -p ./MODULES/UFs/GeoJsons/SaoPaulo-SP.geojson ./c:/Users/johnh/OneDrive/Desktop/TEST/PROTOBUF/PROTOBUF/brazil-latest.osm.pbf -o ./PROTOBUF/PROTOBUFs/SaoPaulo-SP.pbf\n",
      "osmium extract -p ./MODULES/UFs/GeoJsons/Sergipe-SE.geojson ./c:/Users/johnh/OneDrive/Desktop/TEST/PROTOBUF/PROTOBUF/brazil-latest.osm.pbf -o ./PROTOBUF/PROTOBUFs/Sergipe-SE.pbf\n",
      "osmium extract -p ./MODULES/UFs/GeoJsons/Tocantins-TO.geojson ./c:/Users/johnh/OneDrive/Desktop/TEST/PROTOBUF/PROTOBUF/brazil-latest.osm.pbf -o ./PROTOBUF/PROTOBUFs/Tocantins-TO.pbf\n"
     ]
    }
   ],
   "source": []
  },
  {
   "cell_type": "code",
   "execution_count": null,
   "metadata": {},
   "outputs": [],
   "source": []
  },
  {
   "cell_type": "code",
   "execution_count": null,
   "metadata": {},
   "outputs": [],
   "source": [
    "glob('PROTOBUF/PROTOBUF/*')"
   ]
  },
  {
   "cell_type": "code",
   "execution_count": null,
   "metadata": {},
   "outputs": [],
   "source": []
  }
 ],
 "metadata": {
  "kernelspec": {
   "display_name": "Disbral",
   "language": "python",
   "name": "python3"
  },
  "language_info": {
   "codemirror_mode": {
    "name": "ipython",
    "version": 3
   },
   "file_extension": ".py",
   "mimetype": "text/x-python",
   "name": "python",
   "nbconvert_exporter": "python",
   "pygments_lexer": "ipython3",
   "version": "3.11.5"
  }
 },
 "nbformat": 4,
 "nbformat_minor": 2
}
